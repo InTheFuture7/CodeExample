{
 "cells": [
  {
   "cell_type": "code",
   "execution_count": null,
   "metadata": {},
   "outputs": [],
   "source": []
  },
  {
   "cell_type": "code",
   "execution_count": 5,
   "metadata": {},
   "outputs": [
    {
     "name": "stderr",
     "output_type": "stream",
     "text": [
      "C:\\Users\\Lenovo\\AppData\\Local\\Temp\\ipykernel_31820\\2946721901.py:9: SettingWithCopyWarning: \n",
      "A value is trying to be set on a copy of a slice from a DataFrame.\n",
      "Try using .loc[row_indexer,col_indexer] = value instead\n",
      "\n",
      "See the caveats in the documentation: https://pandas.pydata.org/pandas-docs/stable/user_guide/indexing.html#returning-a-view-versus-a-copy\n",
      "  result_df['scenery'] = result_df['scenery'].apply(lambda x: x + '_修改')  # 警告在这里\n"
     ]
    }
   ],
   "source": [
    "import pandas as pd\n",
    "original_df = pd.DataFrame({\n",
    "    'name': ['张三', '李四', '王五', '赵六'],\n",
    "    'scenery': ['山景', '海景', '湖景', '城景'],\n",
    "    'category': ['A', 'B', 'A', 'B']\n",
    "})\n",
    "# 这样更容易触发警告\n",
    "result_df = original_df[original_df['category'] == 'A']\n",
    "result_df['scenery'] = result_df['scenery'].apply(lambda x: x + '_修改')  # 警告在这里"
   ]
  },
  {
   "cell_type": "code",
   "execution_count": null,
   "metadata": {},
   "outputs": [],
   "source": []
  },
  {
   "cell_type": "code",
   "execution_count": null,
   "metadata": {},
   "outputs": [],
   "source": [
    "# 修改某列值\n",
    "df.loc[:, 'column'] = df['column'].apply(function)\n",
    "\n",
    "\n",
    "# 在你当前的代码前面加一行\n",
    "df = df.copy()  # 确保是独立副本\n",
    "# 然后正常操作，不会有警告\n",
    "df['scenery'] = df['scenery'].apply(filter_scenery)\n",
    "\n",
    "\n",
    "\n",
    "# 修改某个元素值\n",
    "df.at[index, 'column'] = df['column'].apply(function)\n"
   ]
  }
 ],
 "metadata": {
  "kernelspec": {
   "display_name": "llm-universe",
   "language": "python",
   "name": "python3"
  },
  "language_info": {
   "codemirror_mode": {
    "name": "ipython",
    "version": 3
   },
   "file_extension": ".py",
   "mimetype": "text/x-python",
   "name": "python",
   "nbconvert_exporter": "python",
   "pygments_lexer": "ipython3",
   "version": "3.10.14"
  }
 },
 "nbformat": 4,
 "nbformat_minor": 2
}
